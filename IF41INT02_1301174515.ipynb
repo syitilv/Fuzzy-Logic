{
 "cells": [
  {
   "cell_type": "code",
   "execution_count": 2,
   "metadata": {},
   "outputs": [],
   "source": [
    "import pandas as pd\n",
    "import matplotlib.pyplot as plt\n",
    "import numpy as np\n",
    "\n",
    "def read_data(): ##read data from file influencers.csv\n",
    "    df = pd.read_csv('influencers.csv')\n",
    "    return df"
   ]
  },
  {
   "cell_type": "code",
   "execution_count": 3,
   "metadata": {},
   "outputs": [],
   "source": [
    "def followers_low(x): ##membership function for followers count (low)\n",
    "    if x <= 10000:\n",
    "        return 1\n",
    "    elif x > 25000:\n",
    "        return 0\n",
    "    else:\n",
    "        return (25000-x)/(25000-10000)\n",
    "    \n",
    "def followers_avg(x): ##membership function for followers count (average)\n",
    "    if x <= 10000 or x > 45000:\n",
    "        return 0\n",
    "    elif x > 10000 and x <= 27000:\n",
    "        return (x-10000)/(27000-10000)\n",
    "    elif x > 27000 and x < 35000:\n",
    "        return 1\n",
    "    else:\n",
    "        return (45000-x)/(45000-35000)\n",
    "\n",
    "def followers_high(x): ##membership function for followers count (high)\n",
    "    if x <= 30000:\n",
    "        return 0\n",
    "    elif x > 45000:\n",
    "        return 1\n",
    "    else:\n",
    "        return (x-30000)/(45000-30000)"
   ]
  },
  {
   "cell_type": "code",
   "execution_count": 4,
   "metadata": {},
   "outputs": [],
   "source": [
    "def engagement_low(x): ##membership function for engagement rate (low)\n",
    "    if x <= 1.0:\n",
    "        return 1\n",
    "    elif x > 1.5:\n",
    "        return 0\n",
    "    else:\n",
    "        return (1.5-x)/(1.5-1.0)\n",
    "    \n",
    "def engagement_avg(x): ##membership function for engagement rate (average)\n",
    "    if x <= 1.0 or x > 3.5:\n",
    "        return 0\n",
    "    elif x > 1.0 and x <= 2.0:\n",
    "        return (x-1.0)/(2.0-1.0)\n",
    "    elif x > 2.0 and x < 2.7:\n",
    "        return 1\n",
    "    else:\n",
    "        return (3.5-x)/(3.5-2.7)\n",
    "\n",
    "def engagement_high(x): ##membership function for engagement rate (high)\n",
    "    if x <= 2.5:\n",
    "        return 0\n",
    "    elif x > 3.5:\n",
    "        return 1\n",
    "    else:\n",
    "        return (x-2.5)/(3.5-2.5)"
   ]
  },
  {
   "cell_type": "code",
   "execution_count": 5,
   "metadata": {},
   "outputs": [],
   "source": [
    "def fuzzification(x,y): ##fuzzification\n",
    "    fuzzyInput = []\n",
    "    info = {}\n",
    "    for i in range(len(x)):\n",
    "        info = {'followers_low': followers_low(x[i]),\n",
    "                'followers_avg': followers_avg(x[i]),\n",
    "                'followers_high': followers_high(x[i]),\n",
    "                'engagement_low': engagement_low(y[i]),\n",
    "                'engagement_avg': engagement_avg(y[i]),\n",
    "                'engagement_high': engagement_high(y[i])\n",
    "        }\n",
    "        fuzzyInput.append(info.copy())\n",
    "    return fuzzyInput"
   ]
  },
  {
   "cell_type": "code",
   "execution_count": 6,
   "metadata": {},
   "outputs": [],
   "source": [
    "def inference(x): ##inference\n",
    "    influencerScore = []\n",
    "    \n",
    "    for i in range(len(fuzzyInput)):\n",
    "        info = {}\n",
    "        scoreAccepted= []\n",
    "        scoreConsidered = []\n",
    "        scoreRejected = []\n",
    "        \n",
    "        scoreAccepted.append(min(fuzzyInput[i]['followers_high'], fuzzyInput[i]['engagement_high']))\n",
    "        scoreAccepted.append(min(fuzzyInput[i]['followers_high'], fuzzyInput[i]['engagement_avg']))\n",
    "        scoreConsidered.append(min(fuzzyInput[i]['followers_high'], fuzzyInput[i]['engagement_low']))\n",
    "        \n",
    "        scoreAccepted.append(min(fuzzyInput[i]['followers_avg'], fuzzyInput[i]['engagement_high']))\n",
    "        scoreConsidered.append(min(fuzzyInput[i]['followers_avg'], fuzzyInput[i]['engagement_avg']))\n",
    "        scoreRejected.append(min(fuzzyInput[i]['followers_avg'], fuzzyInput[i]['engagement_low']))\n",
    "        \n",
    "        scoreConsidered.append(min(fuzzyInput[i]['followers_low'], fuzzyInput[i]['engagement_high']))\n",
    "        scoreRejected.append(min(fuzzyInput[i]['followers_low'], fuzzyInput[i]['engagement_avg']))\n",
    "        scoreRejected.append(min(fuzzyInput[i]['followers_low'], fuzzyInput[i]['engagement_low']))\n",
    "        \n",
    "        info = {'accepted': max(scoreAccepted),\n",
    "                'considered': max(scoreConsidered),\n",
    "                'rejected': max(scoreRejected)\n",
    "        }\n",
    "        influencerScore.append(info.copy())\n",
    "        \n",
    "    return influencerScore"
   ]
  },
  {
   "cell_type": "code",
   "execution_count": 7,
   "metadata": {},
   "outputs": [],
   "source": [
    "def defuzzification(x): ##defuzzification with takagi-sugeno style\n",
    "    finalScore = []\n",
    "    for i in range(len(x)):\n",
    "        info = {}\n",
    "        calc =  ((x[i]['accepted']*100)+(x[i]['considered']*70)+(x[i]['rejected']*50))/(x[i]['accepted']+x[i]['considered']+x[i]['rejected'])\n",
    "        info = {\n",
    "            'index': i+1,\n",
    "            'score': calc\n",
    "        }\n",
    "        finalScore.append(info.copy())\n",
    "    return finalScore"
   ]
  },
  {
   "cell_type": "code",
   "execution_count": 8,
   "metadata": {},
   "outputs": [
    {
     "name": "stdout",
     "output_type": "stream",
     "text": [
      "[11, 13, 19, 25, 41, 53, 59, 60, 61, 72, 75, 93, 2, 67, 50, 74, 36, 76, 6, 63]\n"
     ]
    }
   ],
   "source": [
    "##main\n",
    "df = read_data()\n",
    "followers = df['followerCount'].values\n",
    "engagement = df['engagementRate'].values\n",
    "\n",
    "fuzzyInput = fuzzification(followers, engagement)\n",
    "\n",
    "fuzzyOutput = inference(fuzzyInput)\n",
    "\n",
    "defuz = defuzzification(fuzzyOutput)\n",
    "\n",
    "defuz.sort(key=lambda defuz:defuz['score'],reverse=True)\n",
    "\n",
    "chosen = []\n",
    "\n",
    "for i in range(20):\n",
    "    chosen.append(defuz[i]['index'])\n",
    "    \n",
    "print(chosen)\n",
    "\n",
    "pd.DataFrame(chosen).to_csv('chosen.csv')"
   ]
  },
  {
   "cell_type": "code",
   "execution_count": 9,
   "metadata": {},
   "outputs": [
    {
     "data": {
      "text/plain": [
       "Text(0.5, 1.0, 'followersCount')"
      ]
     },
     "execution_count": 9,
     "metadata": {},
     "output_type": "execute_result"
    },
    {
     "data": {
      "image/png": "[encoded data removed]",
      "text/plain": [
       "<Figure size 432x288 with 1 Axes>"
      ]
     },
     "metadata": {
      "needs_background": "light"
     },
     "output_type": "display_data"
    }
   ],
   "source": [
    "df = pd.DataFrame({\n",
    "    'low': [1,1,0,0,0,0,0],\n",
    "    'avg': [0,0,1,1,1,0,0],\n",
    "    'high':[0,0,0,0,0,1,1]\n",
    "    }, index=[0,10000,25000,27000,35000,45000,50000])\n",
    "lines = df.plot.line()\n",
    "lines.set_title(\"followersCount\")"
   ]
  },
  {
   "cell_type": "code",
   "execution_count": 10,
   "metadata": {},
   "outputs": [
    {
     "data": {
      "text/plain": [
       "Text(0.5, 1.0, 'engagementRate')"
      ]
     },
     "execution_count": 10,
     "metadata": {},
     "output_type": "execute_result"
    },
    {
     "data": {
      "image/png": "[encoded data removed]",
      "text/plain": [
       "<Figure size 432x288 with 1 Axes>"
      ]
     },
     "metadata": {
      "needs_background": "light"
     },
     "output_type": "display_data"
    }
   ],
   "source": [
    "df = pd.DataFrame({\n",
    "    'low': [1,1,0,0,0,0,0,0],\n",
    "    'avg': [0,0,1,1,1,1,0,0],\n",
    "    'high':[0,0,0,0,0,0,1,1]\n",
    "    }, index=[0,1.0,1.5,2.0,2.5,2.7,3.5,4.0])\n",
    "lines = df.plot.line()\n",
    "lines.set_title(\"engagementRate\")"
   ]
  },
  {
   "cell_type": "code",
   "execution_count": null,
   "metadata": {},
   "outputs": [],
   "source": []
  }
 ],
 "metadata": {
  "kernelspec": {
   "display_name": "Python 3",
   "language": "python",
   "name": "python3"
  },
  "language_info": {
   "codemirror_mode": {
    "name": "ipython",
    "version": 3
   },
   "file_extension": ".py",
   "mimetype": "text/x-python",
   "name": "python",
   "nbconvert_exporter": "python",
   "pygments_lexer": "ipython3",
   "version": "3.7.4"
  }
 },
 "nbformat": 4,
 "nbformat_minor": 2
}
